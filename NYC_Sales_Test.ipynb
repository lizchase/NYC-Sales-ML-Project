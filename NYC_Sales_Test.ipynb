{
  "nbformat": 4,
  "nbformat_minor": 0,
  "metadata": {
    "colab": {
      "provenance": []
    },
    "kernelspec": {
      "name": "python3",
      "display_name": "Python 3"
    },
    "language_info": {
      "name": "python"
    }
  },
  "cells": [
    {
      "cell_type": "code",
      "execution_count": 31,
      "metadata": {
        "id": "W8QNwNHk265y"
      },
      "outputs": [],
      "source": [
        "import numpy as np\n",
        "import pickle\n",
        "\n",
        "#Import libraries"
      ]
    },
    {
      "cell_type": "code",
      "source": [
        "model = pickle.load(open('/content/drive/MyDrive/Colab Notebooks/Predictive Analytics Course/Projects/NYC Sales/NYCSalesModel.pkl','rb'))\n",
        "\n",
        "#Load model"
      ],
      "metadata": {
        "id": "-9vunxIw3FI2"
      },
      "execution_count": 32,
      "outputs": []
    },
    {
      "cell_type": "code",
      "source": [
        "test_x = np.zeros((1, 8))\n",
        "test_x\n",
        "\n",
        "#Create an array with 8 zeros because there are 6 variable in our model"
      ],
      "metadata": {
        "colab": {
          "base_uri": "https://localhost:8080/"
        },
        "id": "VIQYUY1T3goN",
        "outputId": "2dff3121-d970-4a71-f70e-3e0ffc6b6364"
      },
      "execution_count": 33,
      "outputs": [
        {
          "output_type": "execute_result",
          "data": {
            "text/plain": [
              "array([[0., 0., 0., 0., 0., 0., 0., 0.]])"
            ]
          },
          "metadata": {},
          "execution_count": 33
        }
      ]
    },
    {
      "cell_type": "code",
      "source": [
        "test_x[0, 0] = 1       # Borough '1':'Manhattan','2':'Bronx','3':'Brooklyn','4':'Queens','5':'Staten Island'\n",
        "test_x[0, 1] = 10012     # Zip Code\n",
        "test_x[0, 2] = 10       # Residential Units\n",
        "test_x[0, 3] = 1        # Commercial Units\n",
        "test_x[0, 4] = 2000       # Land Square Feet\n",
        "test_x[0, 5] = 15000      # Gross Square Feet (Building Square Feet)\n",
        "test_x[0, 6] = 1980        # Year Built\n",
        "test_x[0, 7] = 2015        # Sale Year\n",
        "\n",
        "#Input values to test model."
      ],
      "metadata": {
        "id": "VOyC3uJ93FGU"
      },
      "execution_count": 36,
      "outputs": []
    },
    {
      "cell_type": "code",
      "source": [
        "prediction = model.predict(test_x)\n",
        "print(f'The model {model} predicts a price for an NYC building of ${round(prediction[0], 2)}')\n",
        "\n",
        "# Show the prediction of the model in dollars."
      ],
      "metadata": {
        "colab": {
          "base_uri": "https://localhost:8080/"
        },
        "id": "7Vb4l8i-3FDh",
        "outputId": "8d258073-200f-44aa-ad6e-abdadc64dd32"
      },
      "execution_count": 37,
      "outputs": [
        {
          "output_type": "stream",
          "name": "stdout",
          "text": [
            "The model RandomForestRegressor() predicts a price for an NYC building of $2500755.45\n"
          ]
        }
      ]
    }
  ]
}